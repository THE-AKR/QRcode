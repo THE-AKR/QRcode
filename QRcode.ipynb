{
  "nbformat": 4,
  "nbformat_minor": 0,
  "metadata": {
    "colab": {
      "name": "QRcode.ipynb",
      "provenance": [],
      "collapsed_sections": [],
      "authorship_tag": "ABX9TyOhC5GD6om0se1lFkjP9vUT",
      "include_colab_link": true
    },
    "kernelspec": {
      "name": "python3",
      "display_name": "Python 3"
    },
    "language_info": {
      "name": "python"
    }
  },
  "cells": [
    {
      "cell_type": "markdown",
      "metadata": {
        "id": "view-in-github",
        "colab_type": "text"
      },
      "source": [
        "<a href=\"https://colab.research.google.com/github/THE-AKR/QRcode/blob/main/QRcode.ipynb\" target=\"_parent\"><img src=\"https://colab.research.google.com/assets/colab-badge.svg\" alt=\"Open In Colab\"/></a>"
      ]
    },
    {
      "cell_type": "code",
      "execution_count": 1,
      "metadata": {
        "colab": {
          "base_uri": "https://localhost:8080/"
        },
        "id": "soXGTS-x-1Yw",
        "outputId": "5e48817f-5483-4b0a-890c-f721f47dc3cc"
      },
      "outputs": [
        {
          "output_type": "stream",
          "name": "stdout",
          "text": [
            "Collecting qrcode\n",
            "  Downloading qrcode-7.3.1.tar.gz (43 kB)\n",
            "\u001b[?25l\r\u001b[K     |███████▌                        | 10 kB 24.1 MB/s eta 0:00:01\r\u001b[K     |███████████████                 | 20 kB 13.5 MB/s eta 0:00:01\r\u001b[K     |██████████████████████▋         | 30 kB 10.1 MB/s eta 0:00:01\r\u001b[K     |██████████████████████████████▏ | 40 kB 8.9 MB/s eta 0:00:01\r\u001b[K     |████████████████████████████████| 43 kB 1.0 MB/s \n",
            "\u001b[?25hBuilding wheels for collected packages: qrcode\n",
            "  Building wheel for qrcode (setup.py) ... \u001b[?25l\u001b[?25hdone\n",
            "  Created wheel for qrcode: filename=qrcode-7.3.1-py3-none-any.whl size=40402 sha256=b57ca102a9b9e1b47d2c6616ef6d30b7f172b9da5680c7a33ff45326aa43fae6\n",
            "  Stored in directory: /root/.cache/pip/wheels/93/d7/39/a4111be2cfb8e679938aa671a37888b6afb1f9e7d748e94492\n",
            "Successfully built qrcode\n",
            "Installing collected packages: qrcode\n",
            "Successfully installed qrcode-7.3.1\n"
          ]
        }
      ],
      "source": [
        "pip install qrcode"
      ]
    },
    {
      "cell_type": "code",
      "source": [
        "import qrcode as qr\n",
        "img= qr.make(\"https://www.youtube.com/channel/UC99TMNtVrzfQy-2ajV8-rGA\")\n",
        "img.save(\"img.png\")"
      ],
      "metadata": {
        "id": "SkY9mgVP_DMJ"
      },
      "execution_count": null,
      "outputs": []
    },
    {
      "cell_type": "code",
      "source": [
        "import qrcode as x\n",
        "from PIL import Image\n"
      ],
      "metadata": {
        "id": "7d68L2GHSFel"
      },
      "execution_count": 2,
      "outputs": []
    },
    {
      "cell_type": "code",
      "source": [
        "x= x.QRCode(version=1,error_correction=x.constants.ERROR_CORRECT_H, box_size=10, border=4)"
      ],
      "metadata": {
        "id": "3JpePUvNUD8w"
      },
      "execution_count": 6,
      "outputs": []
    },
    {
      "cell_type": "code",
      "source": [
        "x.add_data(\"https://www.youtube.com/channel/UC99TMNtVrzfQy-2ajV8-rGA\")\n",
        "x.make(fit=True)\n",
        "img= x.make_image(fill_color=\"orange\",back_color=\"blue\")\n",
        "img.save(\"A.png\")"
      ],
      "metadata": {
        "id": "IbCW8VnYU7in"
      },
      "execution_count": 7,
      "outputs": []
    }
  ]
}